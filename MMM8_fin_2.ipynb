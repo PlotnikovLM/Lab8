{
 "cells": [
  {
   "cell_type": "code",
   "execution_count": 1,
   "metadata": {},
   "outputs": [],
   "source": [
    "import numpy as np\n",
    "import matplotlib.pyplot as plt\n",
    "from matplotlib.animation import FuncAnimation\n",
    "from IPython.display import HTML\n",
    "import matplotlib\n",
    "matplotlib.rcParams['animation.embed_limit'] = 10*1024*1024"
   ]
  },
  {
   "cell_type": "markdown",
   "metadata": {},
   "source": [
    "## Пример 2:\n",
    "\n",
    "Уравнение гиперболического типа\n",
    "\n",
    "$$\n",
    "\\begin{cases}\n",
    "\\frac{\\partial ^2 u}{\\partial t^2} = a^2\\frac{\\partial ^2 u}{\\partial y^2}, a^2 > 0\n",
    "\\\\u(0,t) = - sin(at)\n",
    "\\\\u(\\pi,y) = sin(at)\n",
    "\\\\u(x,0) = sin(x)\n",
    "\\\\ut(x,0) = -acos(x)\n",
    "\\end{cases}\n",
    "$$\n",
    "\n",
    "Аналитическое решение: $$ u(x,t) = sin(x - at) $$"
   ]
  },
  {
   "cell_type": "markdown",
   "metadata": {},
   "source": [
    "# Теоретическая часть\n",
    "Рассмотрим задачу для уравнения колебаний на отрезке с краевыми условиями 1-го рода (задачу Дирихле)\n",
    "$$\n",
    "u_{tt}=a^{2}u_{xx}+f(x,t), 0<x<l, t>0\n",
    "$$\n",
    "Начальные условия:\n",
    "$$\n",
    "u(x,0)=\\mu_{1}(x), u_{t}(x,0)=\\mu_{2}(x), t = 0, x \\in [0,l]\n",
    "$$\n",
    "краевые условия 1-го рода:\n",
    "$$\n",
    "u(0,t)=\\mu_{3}(t)\\equiv 0; u(l, t)= \\mu_{4} \\equiv 0, t \\geq 0\n",
    "$$\n",
    "\n",
    "После некоторых преобразований получим краевую схему:\n",
    "$$\n",
    "\\frac{y^{m+1}_{n} - 2y + y^{m-1}_{n}}{\\tau} = a^2 \\frac{y_{n+1} - 2y_{n} + y_{n-1}}{h^2} + \\varphi^{m}_{n}\n",
    "$$\n",
    "краевые условия:\n",
    "$$\n",
    "y^{m}_{0} = \\chi^{m}_{3} = \\mu_{3}(t_{m}) \\equiv 0; y^{m}_{n} = \\chi^{m}_{4} = \\mu_{4}(t_{m}) \\equiv 0;\n",
    "$$\n",
    "начальные условия:\n",
    "$$\n",
    "y^{0}_{n} = \\chi_{1}(x_{n}) = \\mu_{1}(x_{n})\n",
    "$$"
   ]
  },
  {
   "cell_type": "markdown",
   "metadata": {},
   "source": [
    "# Практическая часть\n",
    "Алгоритм совпадает с предудущим"
   ]
  },
  {
   "cell_type": "code",
   "execution_count": 2,
   "metadata": {},
   "outputs": [],
   "source": [
    "h = np.pi/100\n",
    "a = 2\n",
    "T = h**2/(5*a)\n",
    "\n",
    "x = np.arange(0, np.pi+h, h)\n",
    "t = np.arange(0, 0.05+T, T)\n",
    "c = ((a*T)**2)/(h**2)\n"
   ]
  },
  {
   "cell_type": "code",
   "execution_count": 3,
   "metadata": {},
   "outputs": [],
   "source": [
    "u = np.zeros((len(t), len(x)))\n",
    "u[:, 0] = -np.sin(a*t)\n",
    "u[:, -1] = np.sin(a*t)\n",
    "u[0, :] = np.sin(x)\n",
    "u[1, :] = u[0, :] + T*(-a*np.cos(x)) + T**2/2*(-np.sin(x))\n",
    "\n",
    "for i in range(2, len(t)):\n",
    "    for j in range(1, len(x) - 1):\n",
    "        u[i, j] = 2*u[i-1, j] - u[i-2, j] + c*(u[i-1, j+1] -2*u[i-1, j] + u[i-1, j-1])"
   ]
  },
  {
   "cell_type": "code",
   "execution_count": 4,
   "metadata": {},
   "outputs": [],
   "source": [
    "U = np.zeros((len(t), len(x)))\n",
    "\n",
    "for i in range(len(t)):\n",
    "    for j in range(len(x)):\n",
    "        U[i, j] = np.sin(x[j] - a*t[i])"
   ]
  },
  {
   "cell_type": "code",
   "execution_count": 5,
   "metadata": {},
   "outputs": [],
   "source": [
    "r = np.zeros((len(t), len(x)))\n",
    "\n",
    "for i in range(len(t)):\n",
    "    for j in range(len(x)):\n",
    "        r[i, j] = U[i, j] - u[i, j]"
   ]
  },
  {
   "cell_type": "code",
   "execution_count": 6,
   "metadata": {},
   "outputs": [],
   "source": [
    "fig, ax = plt.subplots()\n",
    "xdata, ydata = [], []\n",
    "ln, = plt.plot([], [], lw=1, color='red')\n",
    "plt.grid()\n",
    "\n",
    "def init():\n",
    "    ax.set_xlim(0, np.pi+0.01)\n",
    "    ax.set_ylim(-1.01, 1.01)\n",
    "    return ln,\n",
    "\n",
    "def animate1(i):\n",
    "    ln.set_data(x, u[i])\n",
    "    ax.set_title(str(i))\n",
    "    return ln,\n",
    "\n",
    "ani = FuncAnimation(fig, animate1, init_func=init, frames=len(t), interval= len(t), blit=True)\n",
    "plt.close()"
   ]
  },
  {
   "cell_type": "code",
   "execution_count": 10,
   "metadata": {},
   "outputs": [],
   "source": [
    "HTML(ani.to_jshtml())"
   ]
  },
  {
   "cell_type": "code",
   "execution_count": 8,
   "metadata": {},
   "outputs": [],
   "source": [
    "def animate2(i):\n",
    "    ln.set_data(x, r[i])\n",
    "    ax.set_title(str(i))\n",
    "    return ln,\n",
    "ani = FuncAnimation(fig, animate2, init_func=init, frames=len(t), interval= len(t), blit=True)\n",
    "plt.close()"
   ]
  },
  {
   "cell_type": "code",
   "execution_count": 11,
   "metadata": {},
   "outputs": [],
   "source": [
    "HTML(ani.to_jshtml())"
   ]
  },
  {
   "cell_type": "code",
   "execution_count": null,
   "metadata": {},
   "outputs": [],
   "source": []
  }
 ],
 "metadata": {
  "kernelspec": {
   "display_name": "Python 3",
   "language": "python",
   "name": "python3"
  },
  "language_info": {
   "codemirror_mode": {
    "name": "ipython",
    "version": 3
   },
   "file_extension": ".py",
   "mimetype": "text/x-python",
   "name": "python",
   "nbconvert_exporter": "python",
   "pygments_lexer": "ipython3",
   "version": "3.7.6"
  }
 },
 "nbformat": 4,
 "nbformat_minor": 4
}
