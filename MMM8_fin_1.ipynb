{
 "cells": [
  {
   "cell_type": "markdown",
   "metadata": {},
   "source": [
    "# Лабораторная работа №8: численные методы решения уравнений в частных производных\n",
    "# Выполнил студент группы 427 Плотников Леонид Михайлович\n",
    "# Задание: Требуется решить начально-краевую (примеры 1,2) или краевую (пример3) задачи с использованием любой конечно-разностной схемы. Результат решения сравнить с аналитическим решением."
   ]
  },
  {
   "cell_type": "code",
   "execution_count": 1,
   "metadata": {},
   "outputs": [],
   "source": [
    "import numpy as np\n",
    "import matplotlib.pyplot as plt\n",
    "from matplotlib.animation import FuncAnimation\n",
    "from IPython.display import HTML\n",
    "import matplotlib\n",
    "matplotlib.rcParams['animation.embed_limit'] = 10*1024*1024"
   ]
  },
  {
   "cell_type": "markdown",
   "metadata": {},
   "source": [
    "# Пример №1: уравнение параболического типа\n",
    "$$\n",
    "\\begin{cases}\n",
    " \\frac{\\partial u}{\\partial t}= a\\frac{\\partial ^2 u}{\\partial x^2}, a>0\n",
    "    \\\\u(0,t)=0\n",
    "    \\\\u(1,t)=0\n",
    "    \\\\u(x,0)=sin(2\\pi x)\n",
    "\\end{cases} \n",
    "$$\n",
    "Аналитическое решение:$$ u(x,t)=e^{-4\\pi ^{2}at}sin(2\\pi x)\n",
    "$$"
   ]
  },
  {
   "cell_type": "markdown",
   "metadata": {},
   "source": [
    "# Теоретическая часть\n",
    "Рассмотрим задачу о распространении тепла на отрезке в случае простейших краевых условий 1-го рода\n",
    "$$\n",
    "u_{t}=a^{2}u_{xx}+f(x,t), 0<x<l, t>0\n",
    "$$\n",
    "Начальные условия\n",
    "$$\n",
    "u(x,0)=\\mu_{1}(x) \\equiv \\mu(x)\n",
    "$$\n",
    "однородные краевые условия\n",
    "$$ \n",
    "u(0,t)=\\mu_{2}(t)\\equiv 0; u(l, t)= \\mu_{3} \\equiv 0, t \\underline{>}0\n",
    "$$\n",
    "\n",
    "Введём в области \n",
    "$$ \n",
    "\\overline{D}= [0;l] \\times [0;T] \n",
    "$$\n",
    "сетку \n",
    "$$\n",
    "\\Omega= \\omega_{h} \\times \\omega_{tau} \n",
    "$$\n",
    ", где \n",
    "$$\n",
    "\\omega_{h}=\\big\\{ 0= x_{0} < x_{1} < ... < x_{N} = l  \\\\\n",
    "x_{n} = x_{0} + nh, h= \\frac {x_{N}-x_{0}} {N} \\big\\}\n",
    "$$\n",
    "и \n",
    "$$\n",
    "\\omega_{\\tau}=\\big\\{ 0=t_{0}<t_{1}<...< t_{M}=T \\\\\n",
    "t_{m}= t_{0}+ m\\tau, \\tau=\\frac{T-t_{0}}{M} \\big\\} \n",
    "$$ \n",
    "Рассмотрим сеточную функцию $$ y(x_n;t_m)= y^m_n=y $$ на сетке $$ \\Omega \\equiv \\omega_{h,t} $$\n",
    "\n",
    "После некоторых преобразований получаем разностную схему $$ \n",
    "\\begin{cases} \\frac{1}{\\tau}(y^m+1_n-y^m_n)=a^2\\Delta_h \\big\\{ \\sigma \\widehat{y}+ (1-\\sigma)y \\big\\} + \\Phi^m_n; (x_n, t_m) \\in \\omega_{h,t} \\\\\n",
    "y^0_n=\\chi_n; \\\\\n",
    "y^m_0= y^m_N= 0 = \\chi^m_{0,N} \\end{cases} \\\\ \\Delta_h y^m_n= \\frac{1}{h^2}(y^m_{n+1}-2y^m_n+y^m_{n-1})\n",
    "$$\n",
    "\n",
    "\n",
    "# Практическая часть\n",
    "Записываем 2-й массив с помощью разностной схемы для численного решения, 2-й массив для аналитического решения, 2-й массив для невязки.\n",
    "Дальше строим графики для численного решения и невязки и анимируем их."
   ]
  },
  {
   "cell_type": "code",
   "execution_count": 2,
   "metadata": {},
   "outputs": [],
   "source": [
    "h = 0.01\n",
    "a = 1\n",
    "T = h**2/(2*a)\n",
    "x = np.arange(0, 1+h, h)\n",
    "t = np.arange(0, 0.05+T, T)\n",
    "c=a*T/(h**2)"
   ]
  },
  {
   "cell_type": "code",
   "execution_count": 3,
   "metadata": {},
   "outputs": [],
   "source": [
    "u = np.zeros((len(t), len(x)))\n",
    "\n",
    "u[0, :] = np.sin(2*np.pi*x) \n",
    "\n",
    "# Chislennoe reshenie\n",
    "\n",
    "for i in range(1, len(t)):\n",
    "    for j in range(1, len(x) - 1):\n",
    "        u[i, j] = u[i-1, j] + c*(u[i-1, j-1] - 2*u[i-1, j] + u[i-1, j+1])"
   ]
  },
  {
   "cell_type": "code",
   "execution_count": 4,
   "metadata": {},
   "outputs": [],
   "source": [
    "U = np.zeros((len(t), len(x)))\n",
    "\n",
    "# Tochnoe reshenie\n",
    "\n",
    "for i in range(len(t)):\n",
    "    for j in range(len(x) - 1):\n",
    "        U[i, j] = np.exp(-4*a*np.pi**2*t[i]*a)*np.sin(2*np.pi*x[j])"
   ]
  },
  {
   "cell_type": "code",
   "execution_count": 5,
   "metadata": {},
   "outputs": [],
   "source": [
    "r = np.zeros((len(t), len(x)))\n",
    "\n",
    "# Sravnenie resheniy\n",
    "\n",
    "for i in range(len(t)):\n",
    "    for j in range(len(x)):\n",
    "        r[i, j] = U[i, j] - u[i, j]"
   ]
  },
  {
   "cell_type": "code",
   "execution_count": 6,
   "metadata": {},
   "outputs": [],
   "source": [
    "fig, ax = plt.subplots()\n",
    "xdata, ydata = [], []\n",
    "ln, = plt.plot([], [], lw=1, color='red')\n",
    "plt.grid(color='blue')\n",
    "\n",
    "def init():\n",
    "    ax.set_xlim(-0.01, 1.01)\n",
    "    ax.set_ylim(-1.01, 1.01)\n",
    "    return ln,\n",
    "\n",
    "def animate1(i):\n",
    "    ln.set_data(x, u[i])\n",
    "    ax.set_title(str(i))\n",
    "    return ln,\n",
    "ani = FuncAnimation(fig, animate1, init_func=init, frames=len(t), interval= len(t), blit=True)\n",
    "plt.close()\n"
   ]
  },
  {
   "cell_type": "code",
   "execution_count": 11,
   "metadata": {},
   "outputs": [],
   "source": [
    "HTML(ani.to_jshtml())"
   ]
  },
  {
   "cell_type": "code",
   "execution_count": 8,
   "metadata": {},
   "outputs": [],
   "source": [
    "def animate2(i):\n",
    "    ln.set_data(x, r[i])\n",
    "    ax.set_title(str(i))\n",
    "    return ln,\n",
    "ani = FuncAnimation(fig, animate2, init_func=init, frames=len(t), interval= len(t), blit=True)\n",
    "plt.close()"
   ]
  },
  {
   "cell_type": "code",
   "execution_count": 10,
   "metadata": {},
   "outputs": [],
   "source": [
    "HTML(ani.to_jshtml())"
   ]
  },
  {
   "cell_type": "code",
   "execution_count": null,
   "metadata": {},
   "outputs": [],
   "source": []
  }
 ],
 "metadata": {
  "kernelspec": {
   "display_name": "Python 3",
   "language": "python",
   "name": "python3"
  },
  "language_info": {
   "codemirror_mode": {
    "name": "ipython",
    "version": 3
   },
   "file_extension": ".py",
   "mimetype": "text/x-python",
   "name": "python",
   "nbconvert_exporter": "python",
   "pygments_lexer": "ipython3",
   "version": "3.7.6"
  }
 },
 "nbformat": 4,
 "nbformat_minor": 4
}
