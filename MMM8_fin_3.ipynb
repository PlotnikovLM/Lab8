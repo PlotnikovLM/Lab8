{
 "cells": [
  {
   "cell_type": "code",
   "execution_count": 1,
   "metadata": {},
   "outputs": [],
   "source": [
    "import numpy as np\n",
    "import matplotlib.pyplot as plt\n",
    "from matplotlib.animation import FuncAnimation\n",
    "from IPython.display import HTML\n",
    "import matplotlib\n",
    "matplotlib.rcParams['animation.embed_limit'] = 10*1024*1024"
   ]
  },
  {
   "cell_type": "markdown",
   "metadata": {},
   "source": [
    "## Пример 3:\n",
    "\n",
    "Уравнение эллиптического типа\n",
    "\n",
    "$$\n",
    "\\begin{cases}\n",
    "\\frac{\\partial ^2 u}{\\partial x^2} + \\frac{\\partial ^2 u}{\\partial y^2} = 0\n",
    "\\\\u(0,y) = y\n",
    "\\\\u(1,y) = 1 + y\n",
    "\\\\u(x,0) = x\n",
    "\\\\u(x,1) = 1 + x\n",
    "\\end{cases}\n",
    "$$\n",
    "\n",
    "Аналитическое решение: $$ u(x,t) = x + y $$"
   ]
  },
  {
   "cell_type": "markdown",
   "metadata": {},
   "source": [
    "# Теоретическая часть\n",
    "Рассмотрим задачу о распределении тепла в прямоугольной области:\n",
    "$$\n",
    "\\begin{cases} u_l=a^2(u_{x_{1}x_1} + u_{x_{2}x_2})+ f(x_1, x_2, t), 0<x_1<l_1, 0< x_2< l_2, 0<l \n",
    "\\\\ u|_Г= \\mu_Г(l) \n",
    "\\\\ u|_{t=0}= \\mu(x1, x2) \\end{cases}\n",
    "$$\n",
    "Рассмотрим в $$ \\overline{D} $$ равномерную сетку:\n",
    "$$\n",
    "\\overline{\\omega_{h_1, h_2, \\tau}}= \\big\\{ (x_{1n}, x_{2k}, l_m): x1_{1n}= nh_1; n= \\overline{1,N}; h_1=\\frac{l_1}{N} \\\\\n",
    "x_{2k}= kh_2; k= \\overline{1,K}; h_1=\\frac{l_2}{K} \\\\\n",
    "t_m= m\\tau; m= \\overline{1,M}; \\tau=\\frac{T}{M} \\big\\}\n",
    "$$\n",
    "После некоторых преобразований получили аппроксимацию основного уравнения задачи:\n",
    "$$\n",
    "\\frac{1}{\\tau}(\\widehat y_{n,k}- y_{n,k})= a^2(\\Delta_1 + \\Delta_2)[\\sigma \\widehat y_{n,k} + (1- \\sigma)y_{n,k} ] + \\Phi^m_{n,k} \\\\\n",
    "\\Delta_2 y=\\frac{1}{h^2_2}(y_{n,k+1}- 2y_{n,k} + y_{n,k-1}) \\\\\n",
    "\\Delta_1 y=\\frac{1}{h^2_1}(y_{n+1,k}- 2y_{n,k} + y_{n-1,k}) \n",
    "$$\n",
    "# Практическая часть \n",
    "Алгоритм совпадает с предыдущими"
   ]
  },
  {
   "cell_type": "code",
   "execution_count": 2,
   "metadata": {},
   "outputs": [],
   "source": [
    "h = 0.05\n",
    "x = y = np.arange(0, 1+h, h)"
   ]
  },
  {
   "cell_type": "code",
   "execution_count": 3,
   "metadata": {},
   "outputs": [],
   "source": [
    "u = np.zeros((len(y), len(x)))\n",
    "\n",
    "u[:, 0] = y\n",
    "u[:, -1] = 1 + y\n",
    "\n",
    "u[0, :] = x\n",
    "u[1, :] = u[0, :] + h\n",
    "u[-1, :] = 1 + x\n",
    "\n",
    "for i in range(2, len(y) - 1):\n",
    "    for j in range(1, len(x) - 1):\n",
    "        u[i, j] = 4*u[i-1, j] - u[i-1, j+1] - u[i-1, j-1] - u[i-2, j]"
   ]
  },
  {
   "cell_type": "code",
   "execution_count": 4,
   "metadata": {},
   "outputs": [],
   "source": [
    "U = np.zeros((len(y), len(x)))\n",
    "\n",
    "for i in range(len(y)):\n",
    "    for j in range(len(x)):\n",
    "        U[i, j] = x[j] + y[i]"
   ]
  },
  {
   "cell_type": "code",
   "execution_count": 5,
   "metadata": {},
   "outputs": [],
   "source": [
    "r = np.zeros((len(y), len(x)))\n",
    "\n",
    "for i in range(len(y)):\n",
    "    for j in range(len(x)):\n",
    "        r[i, j] =U[i, j] - u[i, j]  "
   ]
  },
  {
   "cell_type": "code",
   "execution_count": 6,
   "metadata": {},
   "outputs": [],
   "source": [
    "fig, ax = plt.subplots()\n",
    "xdata, ydata = [], []\n",
    "ln, = plt.plot([], [], lw=1, color='red')\n",
    "plt.grid()\n",
    "\n",
    "def init():\n",
    "    ax.set_xlim(-0.01, 1.01)\n",
    "    ax.set_ylim(-0.01, 1.01)\n",
    "    return ln,\n",
    "\n",
    "def animate1(i):\n",
    "    ln.set_data(x, u[i])\n",
    "    ax.set_title(str(i))\n",
    "    return ln,\n",
    "\n",
    "ani = FuncAnimation(fig, animate1, init_func=init, frames=len(y), interval= len(y), blit=True)\n",
    "plt.close()"
   ]
  },
  {
   "cell_type": "code",
   "execution_count": 10,
   "metadata": {},
   "outputs": [],
   "source": [
    "HTML(ani.to_jshtml())"
   ]
  },
  {
   "cell_type": "code",
   "execution_count": 8,
   "metadata": {},
   "outputs": [],
   "source": [
    "def animate2(i):\n",
    "    ln.set_data(x, r[i])\n",
    "    ax.set_title(str(i))\n",
    "    return ln,\n",
    "ani = FuncAnimation(fig, animate2, init_func=init, frames=len(y), interval= len(y), blit=True)\n",
    "plt.close()"
   ]
  },
  {
   "cell_type": "code",
   "execution_count": 11,
   "metadata": {},
   "outputs": [],
   "source": [
    "HTML(ani.to_jshtml())"
   ]
  },
  {
   "cell_type": "markdown",
   "metadata": {},
   "source": [
    "# Результаты\n",
    "Были решены краевые задачи с помощью разностных схем, построены анимации их графиков, невязка близка к 0."
   ]
  }
 ],
 "metadata": {
  "kernelspec": {
   "display_name": "Python 3",
   "language": "python",
   "name": "python3"
  },
  "language_info": {
   "codemirror_mode": {
    "name": "ipython",
    "version": 3
   },
   "file_extension": ".py",
   "mimetype": "text/x-python",
   "name": "python",
   "nbconvert_exporter": "python",
   "pygments_lexer": "ipython3",
   "version": "3.7.6"
  }
 },
 "nbformat": 4,
 "nbformat_minor": 4
}
